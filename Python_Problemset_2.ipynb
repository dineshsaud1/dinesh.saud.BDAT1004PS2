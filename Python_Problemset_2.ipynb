{
 "cells": [
  {
   "cell_type": "markdown",
   "id": "0de2c501",
   "metadata": {},
   "source": [
    "# Question 1"
   ]
  },
  {
   "cell_type": "code",
   "execution_count": 1,
   "id": "700ec8f4",
   "metadata": {},
   "outputs": [
    {
     "data": {
      "text/plain": [
       "6"
      ]
     },
     "execution_count": 1,
     "metadata": {},
     "output_type": "execute_result"
    }
   ],
   "source": [
    "a = 0\n",
    "\n",
    "def b():\n",
    "    global a\n",
    "    a = c(a)\n",
    "\n",
    "def c(a):\n",
    "    return a + 2\n",
    "\n",
    "b()\n",
    "b()\n",
    "b()\n",
    "\n",
    "a  # This will display the value of 'a' after the function calls\n"
   ]
  },
  {
   "cell_type": "markdown",
   "id": "9d049e4d",
   "metadata": {},
   "source": [
    "##### Explanation \n",
    "- First variable name a is defined \n",
    "\n",
    "- function named `b` is defined.\n",
    "\n",
    "  - Inside this function, we make variable a as globel \n",
    "  - Within `b`, a function named `c` is called with the current value of `a` as an argument.\n",
    "  - the result of c is assinged back to variable a\n",
    "\n",
    "- Function c simply takes any argument and adds 2 to it \n",
    "\n",
    "- we call function three times :  `b()`, `b()`, and `b()`.\n",
    "  - This results in the following sequence of operations:\n",
    "    - The first call to `b` updates `a` to 2.\n",
    "    - The second call to `b` updates `a` to 4.\n",
    "    - The third call to `b` updates `a` to 6.\n",
    "\n",
    "- The value 6 is displayed as result of printing variable a. Because 3 time calls to function b makes it value 6. "
   ]
  },
  {
   "cell_type": "markdown",
   "id": "1e0f97ad",
   "metadata": {},
   "source": [
    "# Question 2"
   ]
  },
  {
   "cell_type": "code",
   "execution_count": 5,
   "id": "9ae9645e",
   "metadata": {},
   "outputs": [],
   "source": [
    "def fileLength(file_path):\n",
    "    try:\n",
    "        with open(file_path, 'r') as file:\n",
    "            file_content = file.read()\n",
    "            length = len(file_content)\n",
    "        return length\n",
    "    except FileNotFoundError:\n",
    "        return f\"File {file_path} not found.\"\n"
   ]
  },
  {
   "cell_type": "code",
   "execution_count": 6,
   "id": "f467105f",
   "metadata": {},
   "outputs": [
    {
     "name": "stdout",
     "output_type": "stream",
     "text": [
      "123\n",
      "File idterm.py not found.\n"
     ]
    }
   ],
   "source": [
    "print(fileLength('Filelength.txt')) \n",
    "print(fileLength('idterm.py'))   "
   ]
  },
  {
   "cell_type": "markdown",
   "id": "03977bc9",
   "metadata": {},
   "source": [
    "# Question 3"
   ]
  },
  {
   "cell_type": "code",
   "execution_count": 8,
   "id": "21195b20",
   "metadata": {},
   "outputs": [
    {
     "name": "stdout",
     "output_type": "stream",
     "text": [
      "['doll', 'firetruck', 'kitten']\n",
      "I am a Kangaroo located at coordinates (0,0)\n",
      "['doll', 'firetruck', 'kitten']\n",
      "I am a Kangaroo located at coordinates (3,0)\n"
     ]
    }
   ],
   "source": [
    "class Marsupial:\n",
    "    def __init__(self):\n",
    "        self.pouch = []\n",
    "\n",
    "    def put_in_pouch(self, item):\n",
    "        self.pouch.append(item)\n",
    "\n",
    "    def pouch_contents(self):\n",
    "        return self.pouch\n",
    "\n",
    "class Kangaroo(Marsupial):\n",
    "    def __init__(self, x=0, y=0):\n",
    "        super().__init__()\n",
    "        self.x = x\n",
    "        self.y = y\n",
    "\n",
    "    def jump(self, dx, dy):\n",
    "        self.x += dx\n",
    "        self.y += dy\n",
    "\n",
    "    def __str__(self):\n",
    "        return f\"I am a Kangaroo located at coordinates ({self.x},{self.y})\"\n",
    "\n",
    "\n",
    "# Marsupial instance\n",
    "m = Marsupial()\n",
    "m.put_in_pouch('doll')\n",
    "m.put_in_pouch('firetruck')\n",
    "m.put_in_pouch('kitten')\n",
    "print(m.pouch_contents())\n",
    "\n",
    "\n",
    "# Kangaroo instance\n",
    "k = Kangaroo()\n",
    "print(k)\n",
    "k.put_in_pouch('doll')\n",
    "k.put_in_pouch('firetruck')\n",
    "k.put_in_pouch('kitten')\n",
    "print(k.pouch_contents())\n",
    "k.jump(1, 0)\n",
    "k.jump(1, 0)\n",
    "k.jump(1, 0)\n",
    "print(k)\n"
   ]
  },
  {
   "cell_type": "markdown",
   "id": "a179a91b",
   "metadata": {},
   "source": [
    "# Question 4"
   ]
  },
  {
   "cell_type": "code",
   "execution_count": 9,
   "id": "fe484584",
   "metadata": {},
   "outputs": [],
   "source": [
    "def collatz(x):\n",
    "    if x == 1:\n",
    "        return x\n",
    "    else:\n",
    "        print(x)\n",
    "        if (x % 2 == 0):\n",
    "            return collatz(x//2)\n",
    "        else:\n",
    "            return collatz(3*x+1)"
   ]
  },
  {
   "cell_type": "code",
   "execution_count": 11,
   "id": "6f84a4e8",
   "metadata": {},
   "outputs": [
    {
     "data": {
      "text/plain": [
       "1"
      ]
     },
     "execution_count": 11,
     "metadata": {},
     "output_type": "execute_result"
    }
   ],
   "source": [
    "collatz(1)"
   ]
  },
  {
   "cell_type": "code",
   "execution_count": 13,
   "id": "c15b5645",
   "metadata": {},
   "outputs": [
    {
     "name": "stdout",
     "output_type": "stream",
     "text": [
      "15\n",
      "46\n",
      "23\n",
      "70\n",
      "35\n",
      "106\n",
      "53\n",
      "160\n",
      "80\n",
      "40\n",
      "20\n",
      "10\n",
      "5\n",
      "16\n",
      "8\n",
      "4\n",
      "2\n"
     ]
    },
    {
     "data": {
      "text/plain": [
       "1"
      ]
     },
     "execution_count": 13,
     "metadata": {},
     "output_type": "execute_result"
    }
   ],
   "source": [
    "collatz(15)"
   ]
  },
  {
   "cell_type": "code",
   "execution_count": 17,
   "id": "3cb8eb4a",
   "metadata": {},
   "outputs": [
    {
     "name": "stdout",
     "output_type": "stream",
     "text": [
      "01111001"
     ]
    }
   ],
   "source": [
    "def binary(n):\n",
    "    if n > 1:\n",
    "        binary(n // 2)  # Recursive call for the integer division by 2\n",
    "    print(n % 2, end='')\n",
    "\n"
   ]
  },
  {
   "cell_type": "code",
   "execution_count": 18,
   "id": "7d551e34",
   "metadata": {},
   "outputs": [
    {
     "name": "stdout",
     "output_type": "stream",
     "text": [
      "0"
     ]
    }
   ],
   "source": [
    "binary(0)"
   ]
  },
  {
   "cell_type": "code",
   "execution_count": 19,
   "id": "55181f94",
   "metadata": {},
   "outputs": [
    {
     "name": "stdout",
     "output_type": "stream",
     "text": [
      "1"
     ]
    }
   ],
   "source": [
    "binary(1)\n"
   ]
  },
  {
   "cell_type": "code",
   "execution_count": 20,
   "id": "16d4dd16",
   "metadata": {},
   "outputs": [
    {
     "name": "stdout",
     "output_type": "stream",
     "text": [
      "11"
     ]
    }
   ],
   "source": [
    "binary(3)\n"
   ]
  },
  {
   "cell_type": "code",
   "execution_count": 21,
   "id": "93523938",
   "metadata": {},
   "outputs": [
    {
     "name": "stdout",
     "output_type": "stream",
     "text": [
      "1001"
     ]
    }
   ],
   "source": [
    "binary(9)\n"
   ]
  },
  {
   "cell_type": "markdown",
   "id": "7ba6ba87",
   "metadata": {},
   "source": [
    "# Question 8"
   ]
  },
  {
   "cell_type": "code",
   "execution_count": 26,
   "id": "890c4c22",
   "metadata": {},
   "outputs": [],
   "source": [
    "import sqlite3\n",
    "\n",
    "# Establishing a connection to the SQLite database (or creating one if it doesn't exist)\n",
    "conn = sqlite3.connect('Dinesh_Climate_Database.db')\n",
    "\n",
    "# Initializing a cursor object for interacting with the database\n",
    "cursor = conn.cursor()\n",
    "\n",
    "# Checking and, if necessary, dropping the Weather_Info table (to ensure a fresh start)\n",
    "cursor.execute(\"DROP TABLE IF EXISTS Weather_Info\")\n",
    "\n",
    "# Defining the SQL statement to create the Weather_Info table\n",
    "table = \"\"\"\n",
    "CREATE TABLE Weather_Info (\n",
    "    City TEXT,\n",
    "    Country TEXT,\n",
    "    Season TEXT,\n",
    "    Temperature REAL,\n",
    "    Rainfall REAL\n",
    ");\n",
    "\"\"\"\n",
    "\n",
    "# Executing the CREATE TABLE statement\n",
    "cursor.execute(table)\n",
    "\n",
    "# Defining the SQL statement for inserting data into the Weather_Info table\n",
    "weather_data = \"\"\"\n",
    "INSERT INTO Weather_Info (City, Country, Season, Temperature, Rainfall)\n",
    "VALUES\n",
    "  ('Mumbai', 'India', 'Winter', 24.8, 5.9),\n",
    "  ('Mumbai', 'India', 'Spring', 28.4, 16.2),\n",
    "  ('Mumbai', 'India', 'Summer', 27.9, 1549.4),\n",
    "  ('Mumbai', 'India', 'Fall', 27.6, 346.0),\n",
    "  ('London', 'United Kingdom', 'Winter', 4.2, 207.7),\n",
    "  ('London', 'United Kingdom', 'Spring', 8.3, 169.6),\n",
    "  ('London', 'United Kingdom', 'Summer', 15.7, 157.0),\n",
    "  ('London', 'United Kingdom', 'Fall', 10.4, 218.5),\n",
    "  ('Cairo', 'Egypt', 'Winter', 13.6, 16.5),\n",
    "  ('Cairo', 'Egypt', 'Spring', 20.7, 6.5),\n",
    "  ('Cairo', 'Egypt', 'Summer', 27.7, 0.1),\n",
    "  ('Cairo', 'Egypt', 'Fall', 22.2, 4.5);\n",
    "\"\"\"\n",
    "\n",
    "# Executing the INSERT statement\n",
    "cursor.executescript(weather_data)\n",
    "\n",
    "# Committing the changes to the database\n",
    "conn.commit()\n",
    "\n",
    "# Closing the connection\n",
    "conn.close()\n"
   ]
  },
  {
   "cell_type": "code",
   "execution_count": 27,
   "id": "281d8a06",
   "metadata": {},
   "outputs": [
    {
     "name": "stdout",
     "output_type": "stream",
     "text": [
      "('Mumbai', 'India', 'Winter', 24.8, 5.9)\n",
      "('Mumbai', 'India', 'Spring', 28.4, 16.2)\n",
      "('Mumbai', 'India', 'Summer', 27.9, 1549.4)\n",
      "('Mumbai', 'India', 'Fall', 27.6, 346.0)\n",
      "('London', 'United Kingdom', 'Winter', 4.2, 207.7)\n",
      "('London', 'United Kingdom', 'Spring', 8.3, 169.6)\n",
      "('London', 'United Kingdom', 'Summer', 15.7, 157.0)\n",
      "('London', 'United Kingdom', 'Fall', 10.4, 218.5)\n",
      "('Cairo', 'Egypt', 'Winter', 13.6, 16.5)\n",
      "('Cairo', 'Egypt', 'Spring', 20.7, 6.5)\n",
      "('Cairo', 'Egypt', 'Summer', 27.7, 0.1)\n",
      "('Cairo', 'Egypt', 'Fall', 22.2, 4.5)\n"
     ]
    }
   ],
   "source": [
    "conn = sqlite3.connect('Dinesh_Climate_Database.db')\n",
    "\n",
    "cursor = conn.cursor()\n",
    "\n",
    "cursor.execute(\"\"\" Select * from Weather_Info \"\"\")\n",
    "\n",
    "rows = cursor.fetchall()\n",
    "\n",
    "for row in rows:\n",
    "    print(row)\n",
    "\n",
    "conn.close()"
   ]
  },
  {
   "cell_type": "code",
   "execution_count": 29,
   "id": "a5321147",
   "metadata": {},
   "outputs": [],
   "source": [
    "import sqlite3\n",
    "\n",
    "# Create a connection to the SQLite database\n",
    "conn = sqlite3.connect('Dinesh_Climate_Database.db')\n",
    "\n",
    "# Create cursor objects to interact with the database\n",
    "cursor_a = conn.cursor()\n",
    "cursor_b = conn.cursor()\n",
    "cursor_c = conn.cursor()\n",
    "cursor_d = conn.cursor()\n",
    "cursor_e = conn.cursor()\n",
    "cursor_f = conn.cursor()\n",
    "cursor_g = conn.cursor()\n",
    "cursor_h = conn.cursor()\n",
    "\n",
    "cursor_a.execute(\"\"\"SELECT Temperature \n",
    "                    FROM Weather_Info\n",
    "                 \"\"\")\n",
    "\n",
    "cursor_b.execute(\"\"\"SELECT DISTINCT City \n",
    "                    FROM Weather_Info\n",
    "                 \"\"\")\n",
    "\n",
    "cursor_c.execute(\"\"\"SELECT * \n",
    "                    FROM Weather_Info \n",
    "                    WHERE Country = 'India'\n",
    "                 \"\"\")\n",
    "\n",
    "cursor_d.execute(\"\"\"SELECT *  \n",
    "                    FROM Weather_Info \n",
    "                    WHERE Season = 'Fall'\n",
    "                 \"\"\")\n",
    "\n",
    "cursor_e.execute(\"\"\"SELECT City \n",
    "                          ,Country \n",
    "                          ,Season \n",
    "                    FROM Weather_Info\n",
    "                    GROUP BY City, Country, Season \n",
    "                    HAVING AVG(Rainfall) BETWEEN 200 AND 400\n",
    "                 \"\"\")\n",
    "\n",
    "cursor_f.execute(\"\"\"SELECT City\n",
    "                          ,Country\n",
    "                    FROM Weather_Info\n",
    "                    WHERE Season = 'Fall'\n",
    "                    GROUP BY City, Country\n",
    "                    HAVING AVG(Temperature) > 20\n",
    "                    ORDER BY AVG(Temperature) ASC\n",
    "                 \"\"\")\n",
    "\n",
    "cursor_g.execute(\"\"\"SELECT SUM(Rainfall) AS TotalRainfall\n",
    "                    FROM Weather_Info\n",
    "                    WHERE City = 'Cairo'\n",
    "                 \"\"\")\n",
    "\n",
    "cursor_h.execute(\"\"\"SELECT Season, SUM(Rainfall) AS TotalRainfall\n",
    "                    FROM Weather_Info\n",
    "                    GROUP BY Season\n",
    "                \"\"\")\n",
    "\n",
    "rows_a = cursor_a.fetchall()\n",
    "rows_b = cursor_b.fetchall()\n",
    "rows_c = cursor_c.fetchall()\n",
    "rows_d = cursor_d.fetchall()\n",
    "rows_e = cursor_e.fetchall()\n",
    "rows_f = cursor_f.fetchall()\n",
    "rows_g = cursor_g.fetchall()\n",
    "rows_h = cursor_h.fetchall()\n",
    "\n",
    "conn.close()\n"
   ]
  },
  {
   "cell_type": "code",
   "execution_count": 46,
   "id": "70c7fffd",
   "metadata": {},
   "outputs": [
    {
     "name": "stdout",
     "output_type": "stream",
     "text": [
      "a) All the temperature data.\n",
      "\n",
      "(24.8,)\n",
      "(28.4,)\n",
      "(27.9,)\n",
      "(27.6,)\n",
      "(4.2,)\n",
      "(8.3,)\n",
      "(15.7,)\n",
      "(10.4,)\n",
      "(13.6,)\n",
      "(20.7,)\n",
      "(27.7,)\n",
      "(22.2,)\n"
     ]
    }
   ],
   "source": [
    "print(\"a) All the temperature data.\\n\")\n",
    "for row in rows_a:\n",
    "    print(row)"
   ]
  },
  {
   "cell_type": "code",
   "execution_count": 47,
   "id": "d518517f",
   "metadata": {},
   "outputs": [
    {
     "name": "stdout",
     "output_type": "stream",
     "text": [
      "b) All the cities, but without repetition.\n",
      "\n",
      "('Mumbai',)\n",
      "('London',)\n",
      "('Cairo',)\n"
     ]
    }
   ],
   "source": [
    "print(\"b) All the cities, but without repetition.\\n\")\n",
    "for row in rows_b:\n",
    "    print(row)"
   ]
  },
  {
   "cell_type": "code",
   "execution_count": 48,
   "id": "2f8bb89f",
   "metadata": {},
   "outputs": [
    {
     "name": "stdout",
     "output_type": "stream",
     "text": [
      "c) All the records for India.\n",
      "\n",
      "('Mumbai', 'India', 'Winter', 24.8, 5.9)\n",
      "('Mumbai', 'India', 'Spring', 28.4, 16.2)\n",
      "('Mumbai', 'India', 'Summer', 27.9, 1549.4)\n",
      "('Mumbai', 'India', 'Fall', 27.6, 346.0)\n"
     ]
    }
   ],
   "source": [
    "print(\"c) All the records for India.\\n\")\n",
    "for row in rows_c:\n",
    "    print(row)"
   ]
  },
  {
   "cell_type": "code",
   "execution_count": 49,
   "id": "ab73f3d4",
   "metadata": {},
   "outputs": [
    {
     "name": "stdout",
     "output_type": "stream",
     "text": [
      "d) All the Fall records.\n",
      "\n",
      "('Mumbai', 'India', 'Fall', 27.6, 346.0)\n",
      "('London', 'United Kingdom', 'Fall', 10.4, 218.5)\n",
      "('Cairo', 'Egypt', 'Fall', 22.2, 4.5)\n"
     ]
    }
   ],
   "source": [
    "print(\"d) All the Fall records.\\n\")\n",
    "for row in rows_d:\n",
    "    print(row)"
   ]
  },
  {
   "cell_type": "code",
   "execution_count": 50,
   "id": "fc9ba159",
   "metadata": {},
   "outputs": [
    {
     "name": "stdout",
     "output_type": "stream",
     "text": [
      "e) The city, country, and season for which the average rainfall is between 200 and 400 millimeters.\n",
      "\n",
      "('London', 'United Kingdom', 'Fall')\n",
      "('London', 'United Kingdom', 'Winter')\n",
      "('Mumbai', 'India', 'Fall')\n"
     ]
    }
   ],
   "source": [
    "print(\"e) The city, country, and season for which the average rainfall is between 200 and 400 millimeters.\\n\")\n",
    "for row in rows_e:\n",
    "    print(row)"
   ]
  },
  {
   "cell_type": "code",
   "execution_count": 51,
   "id": "0dea3e1d",
   "metadata": {},
   "outputs": [
    {
     "name": "stdout",
     "output_type": "stream",
     "text": [
      "f) The city and country for which the average Fall temperature is above 20 degrees, in increasing temperature order\n",
      "\n",
      "('Cairo', 'Egypt')\n",
      "('Mumbai', 'India')\n"
     ]
    }
   ],
   "source": [
    "print(\"f) The city and country for which the average Fall temperature is above 20 degrees, in increasing temperature order\\n\")\n",
    "for row in rows_f:\n",
    "    print(row)"
   ]
  },
  {
   "cell_type": "code",
   "execution_count": 52,
   "id": "d329616c",
   "metadata": {},
   "outputs": [
    {
     "name": "stdout",
     "output_type": "stream",
     "text": [
      "g) The total annual rainfall for Cairo\n",
      "\n",
      "(27.6,)\n"
     ]
    }
   ],
   "source": [
    "print(\"g) The total annual rainfall for Cairo\\n\")\n",
    "for row in rows_g:\n",
    "    print(row)"
   ]
  },
  {
   "cell_type": "code",
   "execution_count": 53,
   "id": "778782e7",
   "metadata": {},
   "outputs": [
    {
     "name": "stdout",
     "output_type": "stream",
     "text": [
      "h) The total rainfall for each season.\n",
      "\n",
      "('Fall', 569.0)\n",
      "('Spring', 192.29999999999998)\n",
      "('Summer', 1706.5)\n",
      "('Winter', 230.1)\n"
     ]
    }
   ],
   "source": [
    "print(\"h) The total rainfall for each season.\\n\")\n",
    "for row in rows_h:\n",
    "    print(row)"
   ]
  },
  {
   "cell_type": "markdown",
   "id": "dc15e20c",
   "metadata": {},
   "source": [
    "# Question 9"
   ]
  },
  {
   "cell_type": "code",
   "execution_count": 60,
   "id": "b4d32b7f",
   "metadata": {},
   "outputs": [],
   "source": [
    "words = ['The', 'quick', 'brown', 'fox', 'jumps', 'over', 'the', 'lazy', 'dog']"
   ]
  },
  {
   "cell_type": "code",
   "execution_count": 61,
   "id": "c8ffcb1c",
   "metadata": {},
   "outputs": [
    {
     "name": "stdout",
     "output_type": "stream",
     "text": [
      "a) ['THE', 'QUICK', 'BROWN', 'FOX', 'JUMPS', 'OVER', 'THE', 'LAZY', 'DOG']\n"
     ]
    }
   ],
   "source": [
    "uppercase_words = [word.upper() for word in words]\n",
    "print(f\"a) {uppercase_words}\")"
   ]
  },
  {
   "cell_type": "code",
   "execution_count": 62,
   "id": "94a9092b",
   "metadata": {},
   "outputs": [
    {
     "name": "stdout",
     "output_type": "stream",
     "text": [
      "b) ['the', 'quick', 'brown', 'fox', 'jumps', 'over', 'the', 'lazy', 'dog']\n"
     ]
    }
   ],
   "source": [
    "lowercase_words = [word.lower() for word in words]\n",
    "print(f\"b) {lowercase_words}\")"
   ]
  },
  {
   "cell_type": "code",
   "execution_count": 63,
   "id": "c3ae2d66",
   "metadata": {},
   "outputs": [
    {
     "name": "stdout",
     "output_type": "stream",
     "text": [
      "c) [3, 5, 5, 3, 5, 4, 3, 4, 3]\n"
     ]
    }
   ],
   "source": [
    "word_lengths = [len(word) for word in words]\n",
    "print(f\"c) {word_lengths}\")"
   ]
  },
  {
   "cell_type": "code",
   "execution_count": 64,
   "id": "b5466167",
   "metadata": {},
   "outputs": [
    {
     "name": "stdout",
     "output_type": "stream",
     "text": [
      "d) [['THE', 'the', 3], ['QUICK', 'quick', 5], ['BROWN', 'brown', 5], ['FOX', 'fox', 3], ['JUMPS', 'jumps', 5], ['OVER', 'over', 4], ['THE', 'the', 3], ['LAZY', 'lazy', 4], ['DOG', 'dog', 3]]\n"
     ]
    }
   ],
   "source": [
    "word_info = [[word.upper(), word.lower(), len(word)] for word in words]\n",
    "print(f\"d) {word_info}\")"
   ]
  },
  {
   "cell_type": "code",
   "execution_count": 65,
   "id": "88461592",
   "metadata": {},
   "outputs": [
    {
     "name": "stdout",
     "output_type": "stream",
     "text": [
      "e) ['quick', 'brown', 'jumps', 'over', 'lazy']\n"
     ]
    }
   ],
   "source": [
    "long_words = [word for word in words if len(word) >= 4]\n",
    "print(f\"e) {long_words}\")"
   ]
  },
  {
   "cell_type": "code",
   "execution_count": null,
   "id": "d48341d2",
   "metadata": {},
   "outputs": [],
   "source": []
  }
 ],
 "metadata": {
  "kernelspec": {
   "display_name": "Python 3 (ipykernel)",
   "language": "python",
   "name": "python3"
  },
  "language_info": {
   "codemirror_mode": {
    "name": "ipython",
    "version": 3
   },
   "file_extension": ".py",
   "mimetype": "text/x-python",
   "name": "python",
   "nbconvert_exporter": "python",
   "pygments_lexer": "ipython3",
   "version": "3.11.4"
  }
 },
 "nbformat": 4,
 "nbformat_minor": 5
}
